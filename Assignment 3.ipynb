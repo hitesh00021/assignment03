{
 "cells": [
  {
   "cell_type": "markdown",
   "id": "9207b327",
   "metadata": {},
   "source": [
    "Q.1.\n",
    "1.Diffrence between set and Dictionary.Explain with suitable example.\n",
    "\n",
    "Ans:- Set-\n",
    "          fruits = {\"apple,\"banana\",\"orange\",\"apple\"}\n",
    "          print(fruits)\n",
    "          #output: {'banana','orange','apple'}\n",
    "      Dictinary-\n",
    "          student={\"name\":\"Hitesh\",\"age\":23,\"stream\":\"computer science\"}\n",
    "          print(student)\n",
    "          #output: {'name':'Hitesh', 'age':23, 'stream': 'computer science'}"
   ]
  },
  {
   "cell_type": "code",
   "execution_count": 9,
   "id": "b0d3b5e9",
   "metadata": {},
   "outputs": [],
   "source": [
    "#2.Write a program to print the following pattern.\n",
    "#           *\n",
    "#            * *\n",
    "#            * * *\n",
    "#Ans:-\n",
    "def print_pattern(n):\n",
    "    for i in range(1, n+1):\n",
    "                print('*' *i)\n",
    "    "
   ]
  },
  {
   "cell_type": "code",
   "execution_count": 10,
   "id": "7d091535",
   "metadata": {},
   "outputs": [
    {
     "name": "stdout",
     "output_type": "stream",
     "text": [
      "*\n",
      "**\n",
      "***\n"
     ]
    }
   ],
   "source": [
    "print_pattern(3)"
   ]
  },
  {
   "cell_type": "code",
   "execution_count": 11,
   "id": "cde98c2b",
   "metadata": {},
   "outputs": [],
   "source": [
    "#3.Write a program to print n natural number in ascending order using a while loop.\n",
    "#Ans:-\n",
    "def print_natural_numbers(n):\n",
    "    count = 1\n",
    "    while count <= n:\n",
    "        print(count)\n",
    "        count +=1"
   ]
  },
  {
   "cell_type": "code",
   "execution_count": 12,
   "id": "d29b8946",
   "metadata": {},
   "outputs": [
    {
     "name": "stdout",
     "output_type": "stream",
     "text": [
      "1\n",
      "2\n",
      "3\n"
     ]
    }
   ],
   "source": [
    "print_natural_numbers(3)"
   ]
  },
  {
   "cell_type": "code",
   "execution_count": 13,
   "id": "a81bfc3c",
   "metadata": {},
   "outputs": [],
   "source": [
    "#4.Write a program in python to swap between two numbers without using the third variable.\n",
    "#Ans:-\n",
    "def swap_numbers(a,b):\n",
    "    print(\"Before swapping: a =\", a, \"b =\", b)\n",
    "    \n",
    "    a = a+b\n",
    "    b = a-b\n",
    "    a = a-b\n",
    "    \n",
    "    print(\"After swapping: a =\", a, \"b =\", b)\n",
    "    "
   ]
  },
  {
   "cell_type": "code",
   "execution_count": 15,
   "id": "df5d4bf8",
   "metadata": {},
   "outputs": [
    {
     "name": "stdout",
     "output_type": "stream",
     "text": [
      "Before swapping: a = 10 b = 20\n",
      "After swapping: a = 20 b = 10\n"
     ]
    }
   ],
   "source": [
    "num1=10\n",
    "num2=20\n",
    "swap_numbers(num1,num2)"
   ]
  },
  {
   "cell_type": "code",
   "execution_count": 19,
   "id": "ec6e730a",
   "metadata": {},
   "outputs": [
    {
     "name": "stdout",
     "output_type": "stream",
     "text": [
      "Hello, Hitesh!\n",
      "Hi, raj!\n"
     ]
    }
   ],
   "source": [
    "#5.How to create a funtion with default arguments in python.[Example]\n",
    "#ans:-\n",
    "def greet(name, message=\"Hello\"):\n",
    "        print(f\"{message}, {name}!\")\n",
    "\n",
    "        \n",
    "greet(\"Hitesh\")\n",
    "\n",
    "greet(\"raj\", \"Hi\")"
   ]
  },
  {
   "cell_type": "code",
   "execution_count": 21,
   "id": "a70dc170",
   "metadata": {},
   "outputs": [
    {
     "name": "stdout",
     "output_type": "stream",
     "text": [
      "[1, 4, 9, 16, 25, 36, 49, 64, 81, 100]\n"
     ]
    }
   ],
   "source": [
    "#6.Display a square of numbers from 1 to 10 usinhg list comprehension.\n",
    "#Ans:-\n",
    "squared_numbers= [i**2 for i in range(1, 11)]\n",
    "print(squared_numbers)"
   ]
  },
  {
   "cell_type": "code",
   "execution_count": 22,
   "id": "762757c4",
   "metadata": {},
   "outputs": [
    {
     "name": "stdout",
     "output_type": "stream",
     "text": [
      "15\n",
      "153.86\n"
     ]
    }
   ],
   "source": [
    "#7.What is polymorphism?Explain with example.[class]\n",
    "#Ans:-\n",
    "class Shape:\n",
    "    def area(self):\n",
    "        pass\n",
    "    \n",
    "class Rectangle(Shape):\n",
    "    def __init__(self, length, width):\n",
    "        self.length = length\n",
    "        self.width = width\n",
    "    \n",
    "    def area(self):\n",
    "        return self.length * self.width\n",
    "\n",
    "class Circle(Shape):\n",
    "    def __init__(self, radius):\n",
    "        self.radius = radius\n",
    "        \n",
    "    def area(self):\n",
    "        return 3.14 * self.radius * self.radius\n",
    "    \n",
    "rectangle = Rectangle(5,3)\n",
    "circle = Circle(7)\n",
    "\n",
    "print(rectangle.area())\n",
    "print(circle.area())"
   ]
  },
  {
   "cell_type": "markdown",
   "id": "8f392cd5",
   "metadata": {},
   "source": [
    "8.Explain conditional probability with example.\n",
    "Ans:-\n",
    "     Conditinal probability:-\n",
    "     -It states that the probability that an event occurs given the knowledge that another event has         occurred.\n",
    "     -This is to say that the chance of one event happening is conditional on another event happening.\n",
    "   "
   ]
  },
  {
   "attachments": {
    "image.png": {
     "image/png": "[encoded data removed]"
    }
   },
   "cell_type": "markdown",
   "id": "30638994",
   "metadata": {},
   "source": [
    "9.Explain Emphirical rule with diagram.\n",
    "Ans:-\n",
    "-The empirical rule in statistics, also known as the 68 95 99 rule, states that for normal distributions, 68% of observed data points will lie inside one standard deviation of the mean, 95% will fall within two standard deviations, and 99.7% will occur within three standard deviations.\n",
    "\n",
    "-Thanks to the empirical rule, the mean and standard deviation become extra valuable when you reasonably expect that your data approximate a normal distribution. Simply knowing these two statistics allows you to calculate probabilities and percentages for various outcomes.\n",
    "\n",
    "-The name of the empirical rule comes from empirical research, which uses observations and measurements of real-world outcomes rather than theory. In other words, empirical means it is grounded in practical reality. The empirical rule takes these recorded outcomes and lets you use them to make forecasts and calculate probabilities.\n",
    "\n",
    "\n",
    "![image.png](attachment:image.png)"
   ]
  },
  {
   "cell_type": "markdown",
   "id": "de8c5102",
   "metadata": {},
   "source": [
    "10.What is hypothesis testing? What is the role of p-value in hp?\n",
    "Ans:-\n",
    "\n",
    "-Hypothesis testing is an act in statistics whereby an analyst tests an assumption regarding a population parameter. The methodology employed by the analyst depends on the nature of the data used and the reason for the analysis.\n",
    "\n",
    "-Hypothesis testing is used to assess the plausibility of a hypothesis by using sample data. Such data may come from a larger population, or from a data-generating process. The word \"population\" will be used for both of these cases in the following descriptions.\n",
    "\n",
    "Role of p-value in hp:-\n",
    "The P value is defined as the probability under the assumption of no effect or no difference (null hypothesis), of obtaining a result equal to or more extreme than what was actually observed. The P stands for probability and measures how likely it is that any observed difference between groups is due to chance."
   ]
  },
  {
   "cell_type": "markdown",
   "id": "a5c7046c",
   "metadata": {},
   "source": [
    "Q.2.List all the probability distributions with examples.\n",
    "Ans:-\n",
    "\n",
    "1.Normal Distribution\n",
    "ex.size of shoes\n",
    "\n",
    "2.Uniform distribution\n",
    "ex.rolling a dice\n",
    "\n",
    "3.binomial distribution\n",
    "ex.testing a bugs\n",
    "\n",
    "4.poison distribution\n",
    "ex.number of network failure per week\n",
    "\n",
    "5.exponential distribution\n",
    "ex.life of car\n",
    "\n"
   ]
  }
 ],
 "metadata": {
  "kernelspec": {
   "display_name": "Python 3 (ipykernel)",
   "language": "python",
   "name": "python3"
  },
  "language_info": {
   "codemirror_mode": {
    "name": "ipython",
    "version": 3
   },
   "file_extension": ".py",
   "mimetype": "text/x-python",
   "name": "python",
   "nbconvert_exporter": "python",
   "pygments_lexer": "ipython3",
   "version": "3.10.9"
  }
 },
 "nbformat": 4,
 "nbformat_minor": 5
}
